{
  "nbformat": 4,
  "nbformat_minor": 0,
  "metadata": {
    "colab": {
      "provenance": [],
      "authorship_tag": "ABX9TyO95X9I654zsUpBiopj/XGI",
      "include_colab_link": true
    },
    "kernelspec": {
      "name": "python3",
      "display_name": "Python 3"
    },
    "language_info": {
      "name": "python"
    }
  },
  "cells": [
    {
      "cell_type": "markdown",
      "metadata": {
        "id": "view-in-github",
        "colab_type": "text"
      },
      "source": [
        "<a href=\"https://colab.research.google.com/github/candrajulius/classification_aritmia_and_normal_with_algorithm_knn/blob/main/Identifikasi_Data_Aritmia_KNN.ipynb\" target=\"_parent\"><img src=\"https://colab.research.google.com/assets/colab-badge.svg\" alt=\"Open In Colab\"/></a>"
      ]
    },
    {
      "cell_type": "code",
      "execution_count": 9,
      "metadata": {
        "colab": {
          "base_uri": "https://localhost:8080/",
          "height": 702
        },
        "id": "QA8w-B4B53kJ",
        "outputId": "0929b9f0-0721-46d1-8856-0c221ab30152"
      },
      "outputs": [
        {
          "output_type": "stream",
          "name": "stdout",
          "text": [
            "=== Confusion Matrix ===\n"
          ]
        },
        {
          "output_type": "display_data",
          "data": {
            "text/plain": [
              "<Figure size 600x400 with 2 Axes>"
            ],
            "image/png": "[encoded data removed]"
          },
          "metadata": {}
        },
        {
          "output_type": "stream",
          "name": "stdout",
          "text": [
            "\n",
            "=== Classification Report ===\n",
            "              precision    recall  f1-score   support\n",
            "\n",
            "           0       0.67      1.00      0.80         2\n",
            "           1       1.00      0.92      0.96        13\n",
            "\n",
            "    accuracy                           0.93        15\n",
            "   macro avg       0.83      0.96      0.88        15\n",
            "weighted avg       0.96      0.93      0.94        15\n",
            "\n",
            "\n",
            "=== Akurasi ===\n",
            "93.33%\n",
            "\n",
            "✅ Hasil lengkap disimpan ke file: hasil_knn.xlsx\n"
          ]
        }
      ],
      "source": [
        "import pandas as pd\n",
        "from sklearn.cluster import KMeans\n",
        "from sklearn.neighbors import KNeighborsClassifier\n",
        "from sklearn.preprocessing import StandardScaler\n",
        "from sklearn.model_selection import train_test_split\n",
        "from sklearn.metrics import confusion_matrix, classification_report, accuracy_score\n",
        "import seaborn as sns\n",
        "import matplotlib.pyplot as plt\n",
        "from sklearn.metrics import confusion_matrix\n",
        "\n",
        "# 1. Baca data\n",
        "file_path = 'DATA LANSIA EKG.xlsx'\n",
        "df = pd.read_excel(file_path)\n",
        "\n",
        "# 2. Pisahkan fitur (tanpa kolom 'Subjek')\n",
        "X = df.drop(columns=['Subjek'])\n",
        "\n",
        "# 3. Normalisasi fitur\n",
        "scaler = StandardScaler()\n",
        "X_scaled = scaler.fit_transform(X)\n",
        "\n",
        "# 4. Clustering KMeans (label pseudo)\n",
        "kmeans = KMeans(n_clusters=2, random_state=42)\n",
        "cluster_labels = kmeans.fit_predict(X_scaled)\n",
        "df['cluster'] = cluster_labels  # Simpan label cluster\n",
        "\n",
        "# 5. Split data dengan stratify agar label seimbang\n",
        "X_train, X_test, y_train, y_test = train_test_split(\n",
        "    X_scaled, cluster_labels, test_size=0.3, random_state=42, stratify=cluster_labels\n",
        ")\n",
        "\n",
        "# 6. Latih model KNN\n",
        "knn = KNeighborsClassifier(n_neighbors=3)\n",
        "knn.fit(X_train, y_train)\n",
        "\n",
        "# 7. Evaluasi model\n",
        "y_pred = knn.predict(X_test)\n",
        "cm = confusion_matrix(y_test,y_pred)\n",
        "print(\"=== Confusion Matrix ===\")\n",
        "plt.figure(figsize=(6, 4))\n",
        "sns.heatmap(cm, annot=True, fmt='d', cmap='Blues',\n",
        "            xticklabels=['Normal', 'Aritmia'], yticklabels=['Normal', 'Aritmia'])\n",
        "plt.xlabel('Prediksi')\n",
        "plt.ylabel('Aktual')\n",
        "plt.title('Confusion Matrix KNN - Deteksi Aritmia')\n",
        "plt.tight_layout()\n",
        "plt.show()\n",
        "\n",
        "print(\"\\n=== Classification Report ===\")\n",
        "print(classification_report(y_test, y_pred))\n",
        "\n",
        "print(\"\\n=== Akurasi ===\")\n",
        "print(f\"{accuracy_score(y_test, y_pred) * 100:.2f}%\")\n",
        "\n",
        "# 8. Prediksi untuk seluruh data\n",
        "full_predictions = knn.predict(X_scaled)\n",
        "df['output'] = full_predictions\n",
        "df['result'] = df['output'].apply(lambda x: 'Sangat Berpotensi Aritmia' if x == 1 else 'Normal')\n",
        "\n",
        "# 9. Simpan ke Excel hasil akhir\n",
        "output_file = 'hasil_knn.xlsx'\n",
        "df.to_excel(output_file, index=False)\n",
        "print(f\"\\n✅ Hasil lengkap disimpan ke file: {output_file}\")"
      ]
    }
  ]
}